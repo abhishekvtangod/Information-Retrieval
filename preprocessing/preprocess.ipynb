{
 "cells": [
  {
   "cell_type": "markdown",
   "metadata": {},
   "source": [
    "### Preprocessing"
   ]
  },
  {
   "cell_type": "code",
   "execution_count": null,
   "metadata": {
    "scrolled": true
   },
   "outputs": [],
   "source": [
    "print(\"kernal running...\")\n"
   ]
  },
  {
   "cell_type": "code",
   "execution_count": null,
   "metadata": {},
   "outputs": [],
   "source": [
    "# accent removal\n",
    "import sys\n",
    "# reload(sys)\n",
    "# sys.setdefaultencoding('utf8')"
   ]
  },
  {
   "cell_type": "code",
   "execution_count": 1,
   "metadata": {},
   "outputs": [],
   "source": [
    "import nltk\n",
    "# nltk.download()"
   ]
  },
  {
   "cell_type": "code",
   "execution_count": 2,
   "metadata": {},
   "outputs": [],
   "source": [
    "from nltk.corpus import stopwords\n",
    "from nltk.stem import PorterStemmer\n",
    "from nltk.tokenize import sent_tokenize, word_tokenize\n",
    "\n"
   ]
  },
  {
   "cell_type": "code",
   "execution_count": 3,
   "metadata": {},
   "outputs": [],
   "source": [
    "import pandas as pd\n",
    "import numpy as np\n",
    "\n",
    "\n"
   ]
  },
  {
   "cell_type": "code",
   "execution_count": 4,
   "metadata": {},
   "outputs": [],
   "source": [
    "import os,math,re\n"
   ]
  },
  {
   "cell_type": "code",
   "execution_count": null,
   "metadata": {},
   "outputs": [],
   "source": []
  },
  {
   "cell_type": "code",
   "execution_count": null,
   "metadata": {},
   "outputs": [],
   "source": []
  },
  {
   "cell_type": "code",
   "execution_count": 5,
   "metadata": {},
   "outputs": [],
   "source": [
    "def get_corpus(fname):\n",
    "    myf = open(fname,\"rb\")\n",
    "    text = myf.read().decode(errors='replace')\n",
    "    return text"
   ]
  },
  {
   "cell_type": "code",
   "execution_count": 6,
   "metadata": {},
   "outputs": [],
   "source": [
    "def get_word_tokens(sentence):\n",
    "    sentence = sentence.lower()\n",
    "    return nltk.word_tokenize(sentence)"
   ]
  },
  {
   "cell_type": "code",
   "execution_count": 7,
   "metadata": {},
   "outputs": [],
   "source": [
    "def sw_remove(word_tokens):\n",
    "    stop_words = set(stopwords.words('english'))\n",
    "    filtered_sentence = [w for w in word_tokens if not w in stop_words]\n",
    "    return filtered_sentence"
   ]
  },
  {
   "cell_type": "code",
   "execution_count": 8,
   "metadata": {},
   "outputs": [],
   "source": [
    "def stem_tokens(new_tokens):\n",
    "    ps = PorterStemmer()\n",
    "    stemmed = []\n",
    "    for i in new_tokens:\n",
    "        stemmed.append(ps.stem(i))\n",
    "    return stemmed"
   ]
  },
  {
   "cell_type": "code",
   "execution_count": 9,
   "metadata": {},
   "outputs": [
    {
     "name": "stdout",
     "output_type": "stream",
     "text": [
      "\n",
      "\n",
      "----stats---------\n",
      "text:  29387\n",
      "tokens:  3853\n",
      "tokens after preprocessing: 2701\n",
      "------------------\n",
      "              0\n",
      "0       nebular\n",
      "1        region\n",
      "2         south\n",
      "3          zeta\n",
      "4        orioni\n",
      "5            37\n",
      "6         photo\n",
      "7             :\n",
      "8         mount\n",
      "9        wilson\n",
      "10  observatori\n",
      "11            .\n",
      "12         star\n",
      "13      cluster\n",
      "14       hercul\n"
     ]
    }
   ],
   "source": [
    "# Data-Preprocessing\n",
    "\n",
    "filename = \"mydata/Text1.txt\"\n",
    "text = get_corpus(filename)\n",
    "\n",
    "print(\"\\n\\n----stats---------\")\n",
    "print(\"text: \", len(text))\n",
    "\n",
    "tokens = get_word_tokens(text)\n",
    "print(\"tokens: \", len(tokens))\n",
    "\n",
    "tokens = sw_remove(tokens)\n",
    "tokens = stem_tokens(tokens)\n",
    "\n",
    "print(\"tokens after preprocessing:\", len(tokens))\n",
    "print(\"------------------\")\n",
    "\n",
    "print(pd.DataFrame(tokens).head(15))"
   ]
  },
  {
   "cell_type": "code",
   "execution_count": null,
   "metadata": {},
   "outputs": [],
   "source": []
  }
 ],
 "metadata": {
  "kernelspec": {
   "display_name": "Python 3",
   "language": "python",
   "name": "python3"
  },
  "language_info": {
   "codemirror_mode": {
    "name": "ipython",
    "version": 3
   },
   "file_extension": ".py",
   "mimetype": "text/x-python",
   "name": "python",
   "nbconvert_exporter": "python",
   "pygments_lexer": "ipython3",
   "version": "3.7.4"
  }
 },
 "nbformat": 4,
 "nbformat_minor": 2
}
